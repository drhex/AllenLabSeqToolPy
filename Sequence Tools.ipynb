{
 "metadata": {
  "name": ""
 },
 "nbformat": 3,
 "nbformat_minor": 0,
 "worksheets": [
  {
   "cells": [
    {
     "cell_type": "code",
     "collapsed": false,
     "input": [
      "from string import maketrans\n",
      "import numpy as np"
     ],
     "language": "python",
     "metadata": {},
     "outputs": [],
     "prompt_number": 1
    },
    {
     "cell_type": "code",
     "collapsed": false,
     "input": [
      "sequence=\"CTTACCTCTTTCTCCCACCGC\"\n",
      "revrsseq=sequence[-1:-1*(len(sequence)+1):-1]\n",
      "complseq=sequence.translate(maketrans(\"ATGC\", \"TACG\"))\n",
      "rvcmpseq=complseq[-1:-1*(len(sequence)+1):-1]\n",
      "print(\"sequence: \" + sequence)\n",
      "print(\"reverse : \" +revrsseq)\n",
      "print(\"complmnt: \" +complseq)\n",
      "print(\"revcompl: \" +rvcmpseq)\n"
     ],
     "language": "python",
     "metadata": {},
     "outputs": [
      {
       "output_type": "stream",
       "stream": "stdout",
       "text": [
        "sequence: CTTACCTCTTTCTCCCACCGC\n",
        "reverse : CGCCACCCTCTTTCTCCATTC\n",
        "complmnt: GAATGGAGAAAGAGGGTGGCG\n",
        "revcompl: GCGGTGGGAGAAAGAGGTAAG\n"
       ]
      }
     ],
     "prompt_number": 2
    },
    {
     "cell_type": "code",
     "collapsed": false,
     "input": [
      "def reduceToVector(inputString, letter):\n",
      "    outputvector=np.zeros(len(inputString))\n",
      "    for i in range(0,len(inputString)):\n",
      "        if (inputString[i] == letter):\n",
      "            outputvector[i]=1\n",
      "        else:\n",
      "            outputvector[i]=0\n",
      "    return outputvector\n",
      "\n",
      "def computeComplement(seq1, seq2):\n",
      "    seq2 = seq2[-1:-1*(len(seq2)+1):-1] #reverse seq2\n",
      "    complementA = np.correlate(reduceToVector(seq1, \"A\"),reduceToVector(seq2, \"T\"), \"full\")\n",
      "    complementT = np.correlate(reduceToVector(seq1, \"T\"),reduceToVector(seq2, \"A\"), \"full\")\n",
      "    complementG = np.correlate(reduceToVector(seq1, \"G\"),reduceToVector(seq2, \"C\"), \"full\")\n",
      "    complementC = np.correlate(reduceToVector(seq1, \"C\"),reduceToVector(seq2, \"G\"), \"full\")\n",
      "    return max(complementA+complementT+complementG+complementC)\n",
      "\n",
      "computeComplement(\"TATATGG\", \"CCATATATATATA\")"
     ],
     "language": "python",
     "metadata": {},
     "outputs": [
      {
       "metadata": {},
       "output_type": "pyout",
       "prompt_number": 6,
       "text": [
        "7.0"
       ]
      }
     ],
     "prompt_number": 6
    },
    {
     "cell_type": "code",
     "collapsed": false,
     "input": [
      "sequences=np.loadtxt(\"sequences.csv\",dtype=str,delimiter=\",\")\n",
      "for i in range(0,len(sequences)):\n",
      "    for j in range(0,len(sequences)):\n",
      "        print(sequences[i,0] + \" \\t- \" + sequences[j,0] + \": \\t\" + str(computeComplement(sequences[i,1], sequences[j,1])))"
     ],
     "language": "python",
     "metadata": {},
     "outputs": [
      {
       "output_type": "stream",
       "stream": "stdout",
       "text": [
        "SEQ A \t- SEQ A: \t2.0\n",
        "SEQ A \t- SEQ B: \t3.0\n",
        "SEQ A \t- SEQ C : \t3.0\n",
        "SEQ B \t- SEQ A: \t3.0\n",
        "SEQ B \t- SEQ B: \t2.0\n",
        "SEQ B \t- SEQ C : \t3.0\n",
        "SEQ C  \t- SEQ A: \t3.0\n",
        "SEQ C  \t- SEQ B: \t3.0\n",
        "SEQ C  \t- SEQ C : \t8.0\n"
       ]
      }
     ],
     "prompt_number": 24
    }
   ],
   "metadata": {}
  }
 ]
}